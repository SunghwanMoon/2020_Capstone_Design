{
 "cells": [
  {
   "cell_type": "code",
   "execution_count": 1,
   "metadata": {},
   "outputs": [],
   "source": [
    "from selenium import webdriver\n",
    "from bs4 import BeautifulSoup\n",
    "import time\n",
    "import re\n",
    "from tqdm import trange, notebook"
   ]
  },
  {
   "cell_type": "code",
   "execution_count": 69,
   "metadata": {
    "scrolled": true
   },
   "outputs": [],
   "source": [
    "#Selenium을 위한 webdriver open\n",
    "driver=webdriver.Chrome(\"./chromedriver.exe\")\n",
    "driver.get(\"https://steamcommunity.com/app/271590/reviews/\")\n",
    "\n",
    "# 스크롤창 내리기\n",
    "cnt=0\n",
    "while(cnt<300):\n",
    "    driver.execute_script(\"window.scrollTo(0,document.body.scrollHeight);\")\n",
    "    cnt+=1\n",
    "    time.sleep(1)\n",
    "    \n",
    "\n",
    "# 페이지 소스코드 추출\n",
    "\n",
    "html=driver.page_source\n",
    "main_source=BeautifulSoup(html, 'lxml')"
   ]
  },
  {
   "cell_type": "code",
   "execution_count": 70,
   "metadata": {},
   "outputs": [
    {
     "data": {
      "application/vnd.jupyter.widget-view+json": {
       "model_id": "76b123f6fc4c49e79f497d0bc92edf70",
       "version_major": 2,
       "version_minor": 0
      },
      "text/plain": [
       "HBox(children=(FloatProgress(value=0.0, max=1604.0), HTML(value='')))"
      ]
     },
     "metadata": {},
     "output_type": "display_data"
    },
    {
     "name": "stdout",
     "output_type": "stream",
     "text": [
      "\n"
     ]
    },
    {
     "data": {
      "application/vnd.jupyter.widget-view+json": {
       "model_id": "62845901ec6f44a59027950e22298b24",
       "version_major": 2,
       "version_minor": 0
      },
      "text/plain": [
       "HBox(children=(FloatProgress(value=0.0, max=1604.0), HTML(value='')))"
      ]
     },
     "metadata": {},
     "output_type": "display_data"
    },
    {
     "name": "stdout",
     "output_type": "stream",
     "text": [
      "\n"
     ]
    }
   ],
   "source": [
    "#Steam ID가 포함된 URL 추출\n",
    "\n",
    "id_url=[]\n",
    "\n",
    "for line in main_source.select(\".apphub_CardContentAuthorName.offline.ellipsis a\"):\n",
    "    if 'href' in line.attrs:\n",
    "        id_url.append(line.attrs['href'])\n",
    "        \n",
    "        \n",
    "#URL에서 17자리 Steam ID 추출\n",
    "\n",
    "steam_id_list=[]\n",
    "temp_list=[]\n",
    "\n",
    "# 1) 숫자 추출\n",
    "for i in notebook.tqdm(id_url):\n",
    "    temp_list.append(re.findall('\\d+',i))\n",
    "\n",
    "    \n",
    "# 2) 17자리 숫자만 있는 element 추출\n",
    "for i in notebook.tqdm(temp_list):\n",
    "    for j in i:\n",
    "        if(len(j)==17):\n",
    "            if j not in steam_id_list:\n",
    "                steam_id_list.append(j)"
   ]
  },
  {
   "cell_type": "code",
   "execution_count": 71,
   "metadata": {},
   "outputs": [
    {
     "data": {
      "text/plain": [
       "541"
      ]
     },
     "execution_count": 71,
     "metadata": {},
     "output_type": "execute_result"
    }
   ],
   "source": [
    "len(steam_id_list)"
   ]
  },
  {
   "cell_type": "code",
   "execution_count": 72,
   "metadata": {},
   "outputs": [],
   "source": [
    "# txt파일로 steam_id_list 출력\n",
    "\n",
    "f=open(\"./1119_data/steam_id.txt\",'a')\n",
    "f.write('\\n'.join(steam_id_list))\n",
    "\n",
    "f.close()"
   ]
  },
  {
   "cell_type": "code",
   "execution_count": null,
   "metadata": {},
   "outputs": [],
   "source": []
  }
 ],
 "metadata": {
  "kernelspec": {
   "display_name": "Python 3",
   "language": "python",
   "name": "python3"
  },
  "language_info": {
   "codemirror_mode": {
    "name": "ipython",
    "version": 3
   },
   "file_extension": ".py",
   "mimetype": "text/x-python",
   "name": "python",
   "nbconvert_exporter": "python",
   "pygments_lexer": "ipython3",
   "version": "3.7.6"
  }
 },
 "nbformat": 4,
 "nbformat_minor": 4
}
