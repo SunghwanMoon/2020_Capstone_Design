{
 "cells": [
  {
   "cell_type": "code",
   "execution_count": 1,
   "metadata": {},
   "outputs": [],
   "source": [
    "import json\n",
    "import pandas as pd\n",
    "import numpy as np\n",
    "from tqdm import trange, notebook\n",
    "from bs4 import BeautifulSoup\n",
    "import requests, time\n",
    "import random"
   ]
  },
  {
   "cell_type": "code",
   "execution_count": 2,
   "metadata": {},
   "outputs": [],
   "source": [
    "user_id_list=open('./1119_data/steam_id.txt','r')\n",
    "user_id = user_id_list.readlines()\n",
    "user_id = list(map(lambda s: s.strip(), user_id))\n",
    "user_id_list.close()"
   ]
  },
  {
   "cell_type": "code",
   "execution_count": 3,
   "metadata": {},
   "outputs": [],
   "source": [
    "def del_app_detail(dic):    \n",
    "    for i in dic:\n",
    "        for j in range(len(dic[i])):\n",
    "            try:\n",
    "                if ('img_icon_url' in dic[i][j]):\n",
    "                    del (dic[i][j])['img_icon_url']\n",
    "            except:\n",
    "                pass\n",
    "            try:\n",
    "                if ('img_logo_url' in dic[i][j]):\n",
    "                    del (dic[i][j])['img_logo_url']\n",
    "            except:\n",
    "                pass\n",
    "            try:\n",
    "                if ('playtime_linux_forever' in dic[i][j]):\n",
    "                    del (dic[i][j])['playtime_linux_forever']\n",
    "            except:\n",
    "                pass\n",
    "            try:\n",
    "                if ('playtime_windows_forever' in dic[i][j]):\n",
    "                    del (dic[i][j])['playtime_windows_forever']\n",
    "            except:\n",
    "                pass\n",
    "            try:\n",
    "                if ('playtime_mac_forever' in dic[i][j]):\n",
    "                    del (dic[i][j])['playtime_mac_forever']\n",
    "            except:\n",
    "                pass\n",
    "            try:\n",
    "                if ('has_community_visible_stats' in dic[i][j]):\n",
    "                    del (dic[i][j])['has_community_visible_stats']\n",
    "            except:\n",
    "                pass\n",
    "    return dic"
   ]
  },
  {
   "cell_type": "code",
   "execution_count": 4,
   "metadata": {},
   "outputs": [],
   "source": [
    "def column_attr(init_df,name_lst):\n",
    "    temp_set=set()\n",
    "    for index in range(len(init_df)):\n",
    "        for name in range(init_df.shape[1]):\n",
    "            try:\n",
    "                if type(init_df.loc[index][name])==type({}):\n",
    "                    temp_name=init_df.loc[index][name][\"name\"]\n",
    "                    temp_set.add(temp_name)\n",
    "            except:\n",
    "                continue\n",
    "    for value in temp_set:\n",
    "        name_lst.append(value)"
   ]
  },
  {
   "cell_type": "code",
   "execution_count": 5,
   "metadata": {},
   "outputs": [],
   "source": [
    "def user_own_game(init_df,new_df,game_lst):\n",
    "    for game_name in notebook.tqdm(game_lst):\n",
    "        temp_lst=[]\n",
    "        for index in range(len(init_df)):\n",
    "            count=1\n",
    "            found=False\n",
    "            while(count<11):\n",
    "                for name in range(10):\n",
    "                    try:\n",
    "                        if json.loads(init_df.loc[index][str(name)].replace(\"'\",\"\\\"\"))[\"name\"]==game_name:\n",
    "                            temp_lst.append(json.loads(init_df.loc[index][str(name)].replace(\"'\",\"\\\"\"))[\"playtime_forever\"])\n",
    "                            count=11\n",
    "                            found=True\n",
    "                        else:\n",
    "                            count+=1\n",
    "                    except:\n",
    "                        count+=1\n",
    "                        continue\n",
    "            if found==True:\n",
    "                continue\n",
    "            else:\n",
    "                temp_lst.append(None)\n",
    "        new_df[str(game_name)]=temp_lst"
   ]
  },
  {
   "cell_type": "code",
   "execution_count": null,
   "metadata": {},
   "outputs": [],
   "source": [
    "def user_own_game(init_df,new_df,game_lst):\n",
    "    for game_name in notebook.tqdm(game_lst):\n",
    "        for index in range(len(init_df)):\n",
    "            temp_lst=[]\n",
    "            count=1\n",
    "            found=False\n",
    "            while(count<init_df.shape[1]):\n",
    "                for name in range(init_df.shape[1]):\n",
    "                    try:\n",
    "                        if init_df.loc[index][name][\"name\"]==game_name:\n",
    "                            if init_df.loc[index][name][\"playtime_forever\"]>100:\n",
    "                                temp_lst.append(init_df.loc[index][name][\"playtime_forever\"])\n",
    "                                count=init_df.shape[1]\n",
    "                                found=True\n",
    "                            else:\n",
    "                                count=init_df.shape[1]\n",
    "                            count+=1\n",
    "                    except:\n",
    "                        count+=1\n",
    "                        continue\n",
    "            if found==True:\n",
    "                continue\n",
    "            else:\n",
    "                temp_lst.append(None)\n",
    "    new_df[str(game_name)]=temp_lst"
   ]
  },
  {
   "cell_type": "code",
   "execution_count": 30,
   "metadata": {},
   "outputs": [
    {
     "data": {
      "text/plain": [
       "1455"
      ]
     },
     "execution_count": 30,
     "metadata": {},
     "output_type": "execute_result"
    }
   ],
   "source": [
    "df.loc[0][1][\"playtime_forever\"]"
   ]
  },
  {
   "cell_type": "code",
   "execution_count": 6,
   "metadata": {},
   "outputs": [],
   "source": [
    "def user_inventory(user_id,init_dic): #리스트형 user_id\n",
    "    for i in notebook.tqdm(user_id):\n",
    "        base_url = 'http://api.steampowered.com/IPlayerService/GetOwnedGames/v0001/'\n",
    "        params = {\n",
    "            'key' : '6C2D9CB7C9EEFF924BD9D7C22F1ED83B', \n",
    "            'steamid' : i,\n",
    "            'include_appinfo' : '1',\n",
    "            'format' : 'json' }\n",
    "        r = requests.get(base_url, params = params)\n",
    "        try:\n",
    "            user_inventory = r.json().get('response').get('games')\n",
    "            if user_inventory == None:\n",
    "                time.sleep(random.randint(2,4))\n",
    "                continue\n",
    "            init_dic.update({i:user_inventory})\n",
    "            time.sleep(random.randint(2,4))\n",
    "        except:\n",
    "            continue"
   ]
  },
  {
   "cell_type": "code",
   "execution_count": 7,
   "metadata": {},
   "outputs": [
    {
     "data": {
      "application/vnd.jupyter.widget-view+json": {
       "model_id": "e9b3b74bd87d4143aff8296e41d85160",
       "version_major": 2,
       "version_minor": 0
      },
      "text/plain": [
       "HBox(children=(FloatProgress(value=0.0, max=7525.0), HTML(value='')))"
      ]
     },
     "metadata": {},
     "output_type": "display_data"
    },
    {
     "name": "stdout",
     "output_type": "stream",
     "text": [
      "\n"
     ]
    }
   ],
   "source": [
    "u_recent_app={}\n",
    "user_inventory(user_id,u_recent_app)"
   ]
  },
  {
   "cell_type": "code",
   "execution_count": 8,
   "metadata": {},
   "outputs": [
    {
     "data": {
      "text/plain": [
       "1622"
      ]
     },
     "execution_count": 8,
     "metadata": {},
     "output_type": "execute_result"
    }
   ],
   "source": [
    "final_user_inventory=del_app_detail(u_recent_app)\n",
    "len(final_user_inventory)"
   ]
  },
  {
   "cell_type": "code",
   "execution_count": 9,
   "metadata": {},
   "outputs": [],
   "source": [
    "#df_u_recent_app= pd.DataFrame.from_dict(final_user_inventory, orient='index')\n",
    "df= pd.DataFrame.from_dict(final_user_inventory, orient='index')\n",
    "df=df.rename_axis('user_id').reset_index()"
   ]
  },
  {
   "cell_type": "code",
   "execution_count": 16,
   "metadata": {},
   "outputs": [
    {
     "data": {
      "text/html": [
       "<div>\n",
       "<style scoped>\n",
       "    .dataframe tbody tr th:only-of-type {\n",
       "        vertical-align: middle;\n",
       "    }\n",
       "\n",
       "    .dataframe tbody tr th {\n",
       "        vertical-align: top;\n",
       "    }\n",
       "\n",
       "    .dataframe thead th {\n",
       "        text-align: right;\n",
       "    }\n",
       "</style>\n",
       "<table border=\"1\" class=\"dataframe\">\n",
       "  <thead>\n",
       "    <tr style=\"text-align: right;\">\n",
       "      <th></th>\n",
       "      <th>user_id</th>\n",
       "      <th>0</th>\n",
       "      <th>1</th>\n",
       "      <th>2</th>\n",
       "      <th>3</th>\n",
       "      <th>4</th>\n",
       "      <th>5</th>\n",
       "      <th>6</th>\n",
       "      <th>7</th>\n",
       "      <th>8</th>\n",
       "      <th>...</th>\n",
       "      <th>4409</th>\n",
       "      <th>4410</th>\n",
       "      <th>4411</th>\n",
       "      <th>4412</th>\n",
       "      <th>4413</th>\n",
       "      <th>4414</th>\n",
       "      <th>4415</th>\n",
       "      <th>4416</th>\n",
       "      <th>4417</th>\n",
       "      <th>4418</th>\n",
       "    </tr>\n",
       "  </thead>\n",
       "  <tbody>\n",
       "    <tr>\n",
       "      <th>0</th>\n",
       "      <td>76561198807142275</td>\n",
       "      <td>{'appid': 227300, 'name': 'Euro Truck Simulato...</td>\n",
       "      <td>{'appid': 242920, 'name': 'Banished', 'playtim...</td>\n",
       "      <td>{'appid': 218620, 'name': 'PAYDAY 2', 'playtim...</td>\n",
       "      <td>{'appid': 271590, 'name': 'Grand Theft Auto V'...</td>\n",
       "      <td>{'appid': 730, 'name': 'Counter-Strike: Global...</td>\n",
       "      <td>{'appid': 292030, 'name': 'The Witcher 3: Wild...</td>\n",
       "      <td>{'appid': 550900, 'name': 'Metin2', 'playtime_...</td>\n",
       "      <td>{'appid': 578080, 'name': 'PLAYERUNKNOWN'S BAT...</td>\n",
       "      <td>{'appid': 648800, 'name': 'Raft', 'playtime_2w...</td>\n",
       "      <td>...</td>\n",
       "      <td>None</td>\n",
       "      <td>None</td>\n",
       "      <td>None</td>\n",
       "      <td>None</td>\n",
       "      <td>None</td>\n",
       "      <td>None</td>\n",
       "      <td>None</td>\n",
       "      <td>None</td>\n",
       "      <td>None</td>\n",
       "      <td>None</td>\n",
       "    </tr>\n",
       "    <tr>\n",
       "      <th>1</th>\n",
       "      <td>76561198099451925</td>\n",
       "      <td>{'appid': 4000, 'name': 'Garry's Mod', 'playti...</td>\n",
       "      <td>{'appid': 4560, 'name': 'Company of Heroes - L...</td>\n",
       "      <td>{'appid': 228200, 'name': 'Company of Heroes '...</td>\n",
       "      <td>{'appid': 220, 'name': 'Half-Life 2', 'playtim...</td>\n",
       "      <td>{'appid': 340, 'name': 'Half-Life 2: Lost Coas...</td>\n",
       "      <td>{'appid': 320, 'name': 'Half-Life 2: Deathmatc...</td>\n",
       "      <td>{'appid': 360, 'name': 'Half-Life Deathmatch: ...</td>\n",
       "      <td>{'appid': 380, 'name': 'Half-Life 2: Episode O...</td>\n",
       "      <td>{'appid': 11450, 'name': 'Overlord', 'playtime...</td>\n",
       "      <td>...</td>\n",
       "      <td>None</td>\n",
       "      <td>None</td>\n",
       "      <td>None</td>\n",
       "      <td>None</td>\n",
       "      <td>None</td>\n",
       "      <td>None</td>\n",
       "      <td>None</td>\n",
       "      <td>None</td>\n",
       "      <td>None</td>\n",
       "      <td>None</td>\n",
       "    </tr>\n",
       "    <tr>\n",
       "      <th>2</th>\n",
       "      <td>76561198208050003</td>\n",
       "      <td>{'appid': 4560, 'name': 'Company of Heroes - L...</td>\n",
       "      <td>{'appid': 9340, 'name': 'Company of Heroes: Op...</td>\n",
       "      <td>{'appid': 20540, 'name': 'Company of Heroes: T...</td>\n",
       "      <td>{'appid': 228200, 'name': 'Company of Heroes '...</td>\n",
       "      <td>{'appid': 8930, 'name': 'Sid Meier's Civilizat...</td>\n",
       "      <td>{'appid': 35130, 'name': 'Lara Croft and the G...</td>\n",
       "      <td>{'appid': 227300, 'name': 'Euro Truck Simulato...</td>\n",
       "      <td>{'appid': 47410, 'name': 'Stronghold Kingdoms'...</td>\n",
       "      <td>{'appid': 218230, 'name': 'PlanetSide 2', 'pla...</td>\n",
       "      <td>...</td>\n",
       "      <td>None</td>\n",
       "      <td>None</td>\n",
       "      <td>None</td>\n",
       "      <td>None</td>\n",
       "      <td>None</td>\n",
       "      <td>None</td>\n",
       "      <td>None</td>\n",
       "      <td>None</td>\n",
       "      <td>None</td>\n",
       "      <td>None</td>\n",
       "    </tr>\n",
       "    <tr>\n",
       "      <th>3</th>\n",
       "      <td>76561198033424233</td>\n",
       "      <td>{'appid': 6860, 'name': 'Hitman: Blood Money',...</td>\n",
       "      <td>{'appid': 4560, 'name': 'Company of Heroes - L...</td>\n",
       "      <td>{'appid': 228200, 'name': 'Company of Heroes '...</td>\n",
       "      <td>{'appid': 320, 'name': 'Half-Life 2: Deathmatc...</td>\n",
       "      <td>{'appid': 340, 'name': 'Half-Life 2: Lost Coas...</td>\n",
       "      <td>{'appid': 20900, 'name': 'The Witcher: Enhance...</td>\n",
       "      <td>{'appid': 2820, 'name': 'X3: Terran Conflict',...</td>\n",
       "      <td>{'appid': 17470, 'name': 'Dead Space', 'playti...</td>\n",
       "      <td>{'appid': 24740, 'name': 'Burnout Paradise: Th...</td>\n",
       "      <td>...</td>\n",
       "      <td>None</td>\n",
       "      <td>None</td>\n",
       "      <td>None</td>\n",
       "      <td>None</td>\n",
       "      <td>None</td>\n",
       "      <td>None</td>\n",
       "      <td>None</td>\n",
       "      <td>None</td>\n",
       "      <td>None</td>\n",
       "      <td>None</td>\n",
       "    </tr>\n",
       "    <tr>\n",
       "      <th>4</th>\n",
       "      <td>76561198003838429</td>\n",
       "      <td>{'appid': 240, 'name': 'Counter-Strike: Source...</td>\n",
       "      <td>{'appid': 4000, 'name': 'Garry's Mod', 'playti...</td>\n",
       "      <td>{'appid': 7940, 'name': 'Call of Duty 4: Moder...</td>\n",
       "      <td>{'appid': 8190, 'name': 'Just Cause 2', 'playt...</td>\n",
       "      <td>{'appid': 50130, 'name': 'Mafia II (Classic)',...</td>\n",
       "      <td>{'appid': 1030830, 'name': 'Mafia II: Definiti...</td>\n",
       "      <td>{'appid': 33910, 'name': 'Arma 2', 'playtime_f...</td>\n",
       "      <td>{'appid': 33930, 'name': 'Arma 2: Operation Ar...</td>\n",
       "      <td>{'appid': 219540, 'name': 'Arma 2: Operation A...</td>\n",
       "      <td>...</td>\n",
       "      <td>None</td>\n",
       "      <td>None</td>\n",
       "      <td>None</td>\n",
       "      <td>None</td>\n",
       "      <td>None</td>\n",
       "      <td>None</td>\n",
       "      <td>None</td>\n",
       "      <td>None</td>\n",
       "      <td>None</td>\n",
       "      <td>None</td>\n",
       "    </tr>\n",
       "  </tbody>\n",
       "</table>\n",
       "<p>5 rows × 4420 columns</p>\n",
       "</div>"
      ],
      "text/plain": [
       "             user_id                                                  0  \\\n",
       "0  76561198807142275  {'appid': 227300, 'name': 'Euro Truck Simulato...   \n",
       "1  76561198099451925  {'appid': 4000, 'name': 'Garry's Mod', 'playti...   \n",
       "2  76561198208050003  {'appid': 4560, 'name': 'Company of Heroes - L...   \n",
       "3  76561198033424233  {'appid': 6860, 'name': 'Hitman: Blood Money',...   \n",
       "4  76561198003838429  {'appid': 240, 'name': 'Counter-Strike: Source...   \n",
       "\n",
       "                                                   1  \\\n",
       "0  {'appid': 242920, 'name': 'Banished', 'playtim...   \n",
       "1  {'appid': 4560, 'name': 'Company of Heroes - L...   \n",
       "2  {'appid': 9340, 'name': 'Company of Heroes: Op...   \n",
       "3  {'appid': 4560, 'name': 'Company of Heroes - L...   \n",
       "4  {'appid': 4000, 'name': 'Garry's Mod', 'playti...   \n",
       "\n",
       "                                                   2  \\\n",
       "0  {'appid': 218620, 'name': 'PAYDAY 2', 'playtim...   \n",
       "1  {'appid': 228200, 'name': 'Company of Heroes '...   \n",
       "2  {'appid': 20540, 'name': 'Company of Heroes: T...   \n",
       "3  {'appid': 228200, 'name': 'Company of Heroes '...   \n",
       "4  {'appid': 7940, 'name': 'Call of Duty 4: Moder...   \n",
       "\n",
       "                                                   3  \\\n",
       "0  {'appid': 271590, 'name': 'Grand Theft Auto V'...   \n",
       "1  {'appid': 220, 'name': 'Half-Life 2', 'playtim...   \n",
       "2  {'appid': 228200, 'name': 'Company of Heroes '...   \n",
       "3  {'appid': 320, 'name': 'Half-Life 2: Deathmatc...   \n",
       "4  {'appid': 8190, 'name': 'Just Cause 2', 'playt...   \n",
       "\n",
       "                                                   4  \\\n",
       "0  {'appid': 730, 'name': 'Counter-Strike: Global...   \n",
       "1  {'appid': 340, 'name': 'Half-Life 2: Lost Coas...   \n",
       "2  {'appid': 8930, 'name': 'Sid Meier's Civilizat...   \n",
       "3  {'appid': 340, 'name': 'Half-Life 2: Lost Coas...   \n",
       "4  {'appid': 50130, 'name': 'Mafia II (Classic)',...   \n",
       "\n",
       "                                                   5  \\\n",
       "0  {'appid': 292030, 'name': 'The Witcher 3: Wild...   \n",
       "1  {'appid': 320, 'name': 'Half-Life 2: Deathmatc...   \n",
       "2  {'appid': 35130, 'name': 'Lara Croft and the G...   \n",
       "3  {'appid': 20900, 'name': 'The Witcher: Enhance...   \n",
       "4  {'appid': 1030830, 'name': 'Mafia II: Definiti...   \n",
       "\n",
       "                                                   6  \\\n",
       "0  {'appid': 550900, 'name': 'Metin2', 'playtime_...   \n",
       "1  {'appid': 360, 'name': 'Half-Life Deathmatch: ...   \n",
       "2  {'appid': 227300, 'name': 'Euro Truck Simulato...   \n",
       "3  {'appid': 2820, 'name': 'X3: Terran Conflict',...   \n",
       "4  {'appid': 33910, 'name': 'Arma 2', 'playtime_f...   \n",
       "\n",
       "                                                   7  \\\n",
       "0  {'appid': 578080, 'name': 'PLAYERUNKNOWN'S BAT...   \n",
       "1  {'appid': 380, 'name': 'Half-Life 2: Episode O...   \n",
       "2  {'appid': 47410, 'name': 'Stronghold Kingdoms'...   \n",
       "3  {'appid': 17470, 'name': 'Dead Space', 'playti...   \n",
       "4  {'appid': 33930, 'name': 'Arma 2: Operation Ar...   \n",
       "\n",
       "                                                   8  ...  4409  4410  4411  \\\n",
       "0  {'appid': 648800, 'name': 'Raft', 'playtime_2w...  ...  None  None  None   \n",
       "1  {'appid': 11450, 'name': 'Overlord', 'playtime...  ...  None  None  None   \n",
       "2  {'appid': 218230, 'name': 'PlanetSide 2', 'pla...  ...  None  None  None   \n",
       "3  {'appid': 24740, 'name': 'Burnout Paradise: Th...  ...  None  None  None   \n",
       "4  {'appid': 219540, 'name': 'Arma 2: Operation A...  ...  None  None  None   \n",
       "\n",
       "   4412  4413  4414  4415  4416  4417  4418  \n",
       "0  None  None  None  None  None  None  None  \n",
       "1  None  None  None  None  None  None  None  \n",
       "2  None  None  None  None  None  None  None  \n",
       "3  None  None  None  None  None  None  None  \n",
       "4  None  None  None  None  None  None  None  \n",
       "\n",
       "[5 rows x 4420 columns]"
      ]
     },
     "execution_count": 16,
     "metadata": {},
     "output_type": "execute_result"
    }
   ],
   "source": [
    "df.head()"
   ]
  },
  {
   "cell_type": "code",
   "execution_count": 23,
   "metadata": {},
   "outputs": [],
   "source": [
    "name_lst=[]\n",
    "column_attr(df, name_lst)"
   ]
  },
  {
   "cell_type": "code",
   "execution_count": 24,
   "metadata": {},
   "outputs": [
    {
     "data": {
      "text/plain": [
       "13264"
      ]
     },
     "execution_count": 24,
     "metadata": {},
     "output_type": "execute_result"
    }
   ],
   "source": [
    "len(name_lst)"
   ]
  },
  {
   "cell_type": "code",
   "execution_count": 34,
   "metadata": {},
   "outputs": [],
   "source": [
    "new_df=pd.DataFrame()"
   ]
  },
  {
   "cell_type": "code",
   "execution_count": 11,
   "metadata": {},
   "outputs": [
    {
     "ename": "NameError",
     "evalue": "name 'name_lst' is not defined",
     "output_type": "error",
     "traceback": [
      "\u001b[1;31m---------------------------------------------------------------------------\u001b[0m",
      "\u001b[1;31mNameError\u001b[0m                                 Traceback (most recent call last)",
      "\u001b[1;32m<ipython-input-11-e5e3a52794a2>\u001b[0m in \u001b[0;36m<module>\u001b[1;34m\u001b[0m\n\u001b[0;32m      1\u001b[0m \u001b[0mnew_df\u001b[0m\u001b[1;33m=\u001b[0m\u001b[0mpd\u001b[0m\u001b[1;33m.\u001b[0m\u001b[0mDataFrame\u001b[0m\u001b[1;33m(\u001b[0m\u001b[0mdf\u001b[0m\u001b[1;33m.\u001b[0m\u001b[0mindex\u001b[0m\u001b[1;33m)\u001b[0m\u001b[1;33m\u001b[0m\u001b[1;33m\u001b[0m\u001b[0m\n\u001b[1;32m----> 2\u001b[1;33m \u001b[0muser_own_game\u001b[0m\u001b[1;33m(\u001b[0m\u001b[0mdf\u001b[0m\u001b[1;33m,\u001b[0m\u001b[0mnew_df\u001b[0m\u001b[1;33m,\u001b[0m\u001b[0mname_lst\u001b[0m\u001b[1;33m)\u001b[0m\u001b[1;33m\u001b[0m\u001b[1;33m\u001b[0m\u001b[0m\n\u001b[0m",
      "\u001b[1;31mNameError\u001b[0m: name 'name_lst' is not defined"
     ]
    }
   ],
   "source": [
    "new_df=pd.DataFrame(df.index)\n",
    "user_own_game(df,new_df,name_lst)"
   ]
  },
  {
   "cell_type": "code",
   "execution_count": null,
   "metadata": {},
   "outputs": [],
   "source": [
    "new_df.to_csv(\"./userinventory_fin.csv\")"
   ]
  },
  {
   "cell_type": "code",
   "execution_count": 13,
   "metadata": {},
   "outputs": [],
   "source": [
    "df.to_csv(\"./1126_Userinventory_Fin.csv\")"
   ]
  }
 ],
 "metadata": {
  "kernelspec": {
   "display_name": "Python 3",
   "language": "python",
   "name": "python3"
  },
  "language_info": {
   "codemirror_mode": {
    "name": "ipython",
    "version": 3
   },
   "file_extension": ".py",
   "mimetype": "text/x-python",
   "name": "python",
   "nbconvert_exporter": "python",
   "pygments_lexer": "ipython3",
   "version": "3.7.6"
  }
 },
 "nbformat": 4,
 "nbformat_minor": 4
}
