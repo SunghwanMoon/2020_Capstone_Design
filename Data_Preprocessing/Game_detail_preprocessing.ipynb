{
 "cells": [
  {
   "cell_type": "code",
   "execution_count": 56,
   "metadata": {},
   "outputs": [],
   "source": [
    "import pandas as pd"
   ]
  },
  {
   "cell_type": "code",
   "execution_count": 57,
   "metadata": {},
   "outputs": [],
   "source": [
    "df=pd.read_csv(\"../data/app_detail_data_1.csv\")"
   ]
  },
  {
   "cell_type": "code",
   "execution_count": 58,
   "metadata": {},
   "outputs": [
    {
     "data": {
      "text/html": [
       "<div>\n",
       "<style scoped>\n",
       "    .dataframe tbody tr th:only-of-type {\n",
       "        vertical-align: middle;\n",
       "    }\n",
       "\n",
       "    .dataframe tbody tr th {\n",
       "        vertical-align: top;\n",
       "    }\n",
       "\n",
       "    .dataframe thead th {\n",
       "        text-align: right;\n",
       "    }\n",
       "</style>\n",
       "<table border=\"1\" class=\"dataframe\">\n",
       "  <thead>\n",
       "    <tr style=\"text-align: right;\">\n",
       "      <th></th>\n",
       "      <th>Unnamed: 0</th>\n",
       "      <th>game name</th>\n",
       "      <th>description</th>\n",
       "      <th>price</th>\n",
       "      <th>categories</th>\n",
       "      <th>genres</th>\n",
       "      <th>recommendations</th>\n",
       "    </tr>\n",
       "  </thead>\n",
       "  <tbody>\n",
       "    <tr>\n",
       "      <th>0</th>\n",
       "      <td>0</td>\n",
       "      <td>Counter-Strike</td>\n",
       "      <td>Play the world's number 1 online action game. ...</td>\n",
       "      <td>₩ 10,500</td>\n",
       "      <td>['Multi-player', 'PvP', 'Online PvP', 'Shared/...</td>\n",
       "      <td>Action</td>\n",
       "      <td>98065.0</td>\n",
       "    </tr>\n",
       "    <tr>\n",
       "      <th>1</th>\n",
       "      <td>1</td>\n",
       "      <td>Team Fortress Classic</td>\n",
       "      <td>One of the most popular online action games of...</td>\n",
       "      <td>₩ 5,500</td>\n",
       "      <td>['Multi-player', 'PvP', 'Online PvP', 'Shared/...</td>\n",
       "      <td>Action</td>\n",
       "      <td>3664.0</td>\n",
       "    </tr>\n",
       "    <tr>\n",
       "      <th>2</th>\n",
       "      <td>2</td>\n",
       "      <td>Deathmatch Classic</td>\n",
       "      <td>Enjoy fast-paced multiplayer gaming with Death...</td>\n",
       "      <td>₩ 5,500</td>\n",
       "      <td>['Multi-player', 'PvP', 'Online PvP', 'Shared/...</td>\n",
       "      <td>Action</td>\n",
       "      <td>1250.0</td>\n",
       "    </tr>\n",
       "    <tr>\n",
       "      <th>3</th>\n",
       "      <td>3</td>\n",
       "      <td>Half-Life: Opposing Force</td>\n",
       "      <td>Return to the Black Mesa Research Facility as ...</td>\n",
       "      <td>₩ 5,500</td>\n",
       "      <td>['Single-player', 'Multi-player', 'Valve Anti-...</td>\n",
       "      <td>Action</td>\n",
       "      <td>7834.0</td>\n",
       "    </tr>\n",
       "    <tr>\n",
       "      <th>4</th>\n",
       "      <td>4</td>\n",
       "      <td>Ricochet</td>\n",
       "      <td>A futuristic action game that challenges your ...</td>\n",
       "      <td>₩ 5,500</td>\n",
       "      <td>['Multi-player', 'PvP', 'Online PvP', 'Valve A...</td>\n",
       "      <td>Action</td>\n",
       "      <td>2637.0</td>\n",
       "    </tr>\n",
       "  </tbody>\n",
       "</table>\n",
       "</div>"
      ],
      "text/plain": [
       "   Unnamed: 0                  game name  \\\n",
       "0           0             Counter-Strike   \n",
       "1           1      Team Fortress Classic   \n",
       "2           2         Deathmatch Classic   \n",
       "3           3  Half-Life: Opposing Force   \n",
       "4           4                   Ricochet   \n",
       "\n",
       "                                         description     price  \\\n",
       "0  Play the world's number 1 online action game. ...  ₩ 10,500   \n",
       "1  One of the most popular online action games of...   ₩ 5,500   \n",
       "2  Enjoy fast-paced multiplayer gaming with Death...   ₩ 5,500   \n",
       "3  Return to the Black Mesa Research Facility as ...   ₩ 5,500   \n",
       "4  A futuristic action game that challenges your ...   ₩ 5,500   \n",
       "\n",
       "                                          categories  genres  recommendations  \n",
       "0  ['Multi-player', 'PvP', 'Online PvP', 'Shared/...  Action          98065.0  \n",
       "1  ['Multi-player', 'PvP', 'Online PvP', 'Shared/...  Action           3664.0  \n",
       "2  ['Multi-player', 'PvP', 'Online PvP', 'Shared/...  Action           1250.0  \n",
       "3  ['Single-player', 'Multi-player', 'Valve Anti-...  Action           7834.0  \n",
       "4  ['Multi-player', 'PvP', 'Online PvP', 'Valve A...  Action           2637.0  "
      ]
     },
     "execution_count": 58,
     "metadata": {},
     "output_type": "execute_result"
    }
   ],
   "source": [
    "df.head()"
   ]
  },
  {
   "cell_type": "code",
   "execution_count": 59,
   "metadata": {},
   "outputs": [],
   "source": [
    "df.drop(\"Unnamed: 0\",axis=1, inplace=True)"
   ]
  },
  {
   "cell_type": "code",
   "execution_count": 60,
   "metadata": {},
   "outputs": [
    {
     "data": {
      "text/html": [
       "<div>\n",
       "<style scoped>\n",
       "    .dataframe tbody tr th:only-of-type {\n",
       "        vertical-align: middle;\n",
       "    }\n",
       "\n",
       "    .dataframe tbody tr th {\n",
       "        vertical-align: top;\n",
       "    }\n",
       "\n",
       "    .dataframe thead th {\n",
       "        text-align: right;\n",
       "    }\n",
       "</style>\n",
       "<table border=\"1\" class=\"dataframe\">\n",
       "  <thead>\n",
       "    <tr style=\"text-align: right;\">\n",
       "      <th></th>\n",
       "      <th>game name</th>\n",
       "      <th>description</th>\n",
       "      <th>price</th>\n",
       "      <th>categories</th>\n",
       "      <th>genres</th>\n",
       "      <th>recommendations</th>\n",
       "    </tr>\n",
       "  </thead>\n",
       "  <tbody>\n",
       "    <tr>\n",
       "      <th>0</th>\n",
       "      <td>Counter-Strike</td>\n",
       "      <td>Play the world's number 1 online action game. ...</td>\n",
       "      <td>₩ 10,500</td>\n",
       "      <td>['Multi-player', 'PvP', 'Online PvP', 'Shared/...</td>\n",
       "      <td>Action</td>\n",
       "      <td>98065.0</td>\n",
       "    </tr>\n",
       "    <tr>\n",
       "      <th>1</th>\n",
       "      <td>Team Fortress Classic</td>\n",
       "      <td>One of the most popular online action games of...</td>\n",
       "      <td>₩ 5,500</td>\n",
       "      <td>['Multi-player', 'PvP', 'Online PvP', 'Shared/...</td>\n",
       "      <td>Action</td>\n",
       "      <td>3664.0</td>\n",
       "    </tr>\n",
       "    <tr>\n",
       "      <th>2</th>\n",
       "      <td>Deathmatch Classic</td>\n",
       "      <td>Enjoy fast-paced multiplayer gaming with Death...</td>\n",
       "      <td>₩ 5,500</td>\n",
       "      <td>['Multi-player', 'PvP', 'Online PvP', 'Shared/...</td>\n",
       "      <td>Action</td>\n",
       "      <td>1250.0</td>\n",
       "    </tr>\n",
       "    <tr>\n",
       "      <th>3</th>\n",
       "      <td>Half-Life: Opposing Force</td>\n",
       "      <td>Return to the Black Mesa Research Facility as ...</td>\n",
       "      <td>₩ 5,500</td>\n",
       "      <td>['Single-player', 'Multi-player', 'Valve Anti-...</td>\n",
       "      <td>Action</td>\n",
       "      <td>7834.0</td>\n",
       "    </tr>\n",
       "    <tr>\n",
       "      <th>4</th>\n",
       "      <td>Ricochet</td>\n",
       "      <td>A futuristic action game that challenges your ...</td>\n",
       "      <td>₩ 5,500</td>\n",
       "      <td>['Multi-player', 'PvP', 'Online PvP', 'Valve A...</td>\n",
       "      <td>Action</td>\n",
       "      <td>2637.0</td>\n",
       "    </tr>\n",
       "  </tbody>\n",
       "</table>\n",
       "</div>"
      ],
      "text/plain": [
       "                   game name  \\\n",
       "0             Counter-Strike   \n",
       "1      Team Fortress Classic   \n",
       "2         Deathmatch Classic   \n",
       "3  Half-Life: Opposing Force   \n",
       "4                   Ricochet   \n",
       "\n",
       "                                         description     price  \\\n",
       "0  Play the world's number 1 online action game. ...  ₩ 10,500   \n",
       "1  One of the most popular online action games of...   ₩ 5,500   \n",
       "2  Enjoy fast-paced multiplayer gaming with Death...   ₩ 5,500   \n",
       "3  Return to the Black Mesa Research Facility as ...   ₩ 5,500   \n",
       "4  A futuristic action game that challenges your ...   ₩ 5,500   \n",
       "\n",
       "                                          categories  genres  recommendations  \n",
       "0  ['Multi-player', 'PvP', 'Online PvP', 'Shared/...  Action          98065.0  \n",
       "1  ['Multi-player', 'PvP', 'Online PvP', 'Shared/...  Action           3664.0  \n",
       "2  ['Multi-player', 'PvP', 'Online PvP', 'Shared/...  Action           1250.0  \n",
       "3  ['Single-player', 'Multi-player', 'Valve Anti-...  Action           7834.0  \n",
       "4  ['Multi-player', 'PvP', 'Online PvP', 'Valve A...  Action           2637.0  "
      ]
     },
     "execution_count": 60,
     "metadata": {},
     "output_type": "execute_result"
    }
   ],
   "source": [
    "df.head()"
   ]
  },
  {
   "cell_type": "code",
   "execution_count": 61,
   "metadata": {},
   "outputs": [
    {
     "data": {
      "text/plain": [
       "2851"
      ]
     },
     "execution_count": 61,
     "metadata": {},
     "output_type": "execute_result"
    }
   ],
   "source": [
    "len(df)"
   ]
  },
  {
   "cell_type": "code",
   "execution_count": 62,
   "metadata": {},
   "outputs": [],
   "source": [
    "for i in range(len(df)):\n",
    "    if df.loc[i][\"description\"][0]==\"<\":\n",
    "        df.drop(i, inplace=True)"
   ]
  },
  {
   "cell_type": "code",
   "execution_count": 65,
   "metadata": {},
   "outputs": [],
   "source": [
    "df.dropna(axis=0, inplace=True)"
   ]
  },
  {
   "cell_type": "code",
   "execution_count": 66,
   "metadata": {},
   "outputs": [
    {
     "data": {
      "text/plain": [
       "1035"
      ]
     },
     "execution_count": 66,
     "metadata": {},
     "output_type": "execute_result"
    }
   ],
   "source": [
    "len(df)"
   ]
  },
  {
   "cell_type": "code",
   "execution_count": 67,
   "metadata": {},
   "outputs": [
    {
     "data": {
      "text/html": [
       "<div>\n",
       "<style scoped>\n",
       "    .dataframe tbody tr th:only-of-type {\n",
       "        vertical-align: middle;\n",
       "    }\n",
       "\n",
       "    .dataframe tbody tr th {\n",
       "        vertical-align: top;\n",
       "    }\n",
       "\n",
       "    .dataframe thead th {\n",
       "        text-align: right;\n",
       "    }\n",
       "</style>\n",
       "<table border=\"1\" class=\"dataframe\">\n",
       "  <thead>\n",
       "    <tr style=\"text-align: right;\">\n",
       "      <th></th>\n",
       "      <th>game name</th>\n",
       "      <th>description</th>\n",
       "      <th>price</th>\n",
       "      <th>categories</th>\n",
       "      <th>genres</th>\n",
       "      <th>recommendations</th>\n",
       "    </tr>\n",
       "  </thead>\n",
       "  <tbody>\n",
       "    <tr>\n",
       "      <th>0</th>\n",
       "      <td>Counter-Strike</td>\n",
       "      <td>Play the world's number 1 online action game. ...</td>\n",
       "      <td>₩ 10,500</td>\n",
       "      <td>['Multi-player', 'PvP', 'Online PvP', 'Shared/...</td>\n",
       "      <td>Action</td>\n",
       "      <td>98065.0</td>\n",
       "    </tr>\n",
       "    <tr>\n",
       "      <th>1</th>\n",
       "      <td>Team Fortress Classic</td>\n",
       "      <td>One of the most popular online action games of...</td>\n",
       "      <td>₩ 5,500</td>\n",
       "      <td>['Multi-player', 'PvP', 'Online PvP', 'Shared/...</td>\n",
       "      <td>Action</td>\n",
       "      <td>3664.0</td>\n",
       "    </tr>\n",
       "    <tr>\n",
       "      <th>2</th>\n",
       "      <td>Deathmatch Classic</td>\n",
       "      <td>Enjoy fast-paced multiplayer gaming with Death...</td>\n",
       "      <td>₩ 5,500</td>\n",
       "      <td>['Multi-player', 'PvP', 'Online PvP', 'Shared/...</td>\n",
       "      <td>Action</td>\n",
       "      <td>1250.0</td>\n",
       "    </tr>\n",
       "    <tr>\n",
       "      <th>3</th>\n",
       "      <td>Half-Life: Opposing Force</td>\n",
       "      <td>Return to the Black Mesa Research Facility as ...</td>\n",
       "      <td>₩ 5,500</td>\n",
       "      <td>['Single-player', 'Multi-player', 'Valve Anti-...</td>\n",
       "      <td>Action</td>\n",
       "      <td>7834.0</td>\n",
       "    </tr>\n",
       "    <tr>\n",
       "      <th>4</th>\n",
       "      <td>Ricochet</td>\n",
       "      <td>A futuristic action game that challenges your ...</td>\n",
       "      <td>₩ 5,500</td>\n",
       "      <td>['Multi-player', 'PvP', 'Online PvP', 'Valve A...</td>\n",
       "      <td>Action</td>\n",
       "      <td>2637.0</td>\n",
       "    </tr>\n",
       "  </tbody>\n",
       "</table>\n",
       "</div>"
      ],
      "text/plain": [
       "                   game name  \\\n",
       "0             Counter-Strike   \n",
       "1      Team Fortress Classic   \n",
       "2         Deathmatch Classic   \n",
       "3  Half-Life: Opposing Force   \n",
       "4                   Ricochet   \n",
       "\n",
       "                                         description     price  \\\n",
       "0  Play the world's number 1 online action game. ...  ₩ 10,500   \n",
       "1  One of the most popular online action games of...   ₩ 5,500   \n",
       "2  Enjoy fast-paced multiplayer gaming with Death...   ₩ 5,500   \n",
       "3  Return to the Black Mesa Research Facility as ...   ₩ 5,500   \n",
       "4  A futuristic action game that challenges your ...   ₩ 5,500   \n",
       "\n",
       "                                          categories  genres  recommendations  \n",
       "0  ['Multi-player', 'PvP', 'Online PvP', 'Shared/...  Action          98065.0  \n",
       "1  ['Multi-player', 'PvP', 'Online PvP', 'Shared/...  Action           3664.0  \n",
       "2  ['Multi-player', 'PvP', 'Online PvP', 'Shared/...  Action           1250.0  \n",
       "3  ['Single-player', 'Multi-player', 'Valve Anti-...  Action           7834.0  \n",
       "4  ['Multi-player', 'PvP', 'Online PvP', 'Valve A...  Action           2637.0  "
      ]
     },
     "execution_count": 67,
     "metadata": {},
     "output_type": "execute_result"
    }
   ],
   "source": [
    "df.head()"
   ]
  },
  {
   "cell_type": "code",
   "execution_count": 69,
   "metadata": {},
   "outputs": [],
   "source": [
    "df.to_csv(\"../data/game_detail_preprocessing.csv\")"
   ]
  }
 ],
 "metadata": {
  "kernelspec": {
   "display_name": "Python 3",
   "language": "python",
   "name": "python3"
  },
  "language_info": {
   "codemirror_mode": {
    "name": "ipython",
    "version": 3
   },
   "file_extension": ".py",
   "mimetype": "text/x-python",
   "name": "python",
   "nbconvert_exporter": "python",
   "pygments_lexer": "ipython3",
   "version": "3.7.6"
  }
 },
 "nbformat": 4,
 "nbformat_minor": 4
}
