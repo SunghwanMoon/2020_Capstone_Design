{
 "cells": [
  {
   "cell_type": "code",
   "execution_count": 1,
   "metadata": {},
   "outputs": [],
   "source": [
    "import pandas as pd\n",
    "import numpy as np\n",
    "import json\n",
    "from sklearn.feature_extraction.text import TfidfVectorizer\n",
    "from sklearn.metrics.pairwise import linear_kernel,cosine_similarity"
   ]
  },
  {
   "cell_type": "code",
   "execution_count": 2,
   "metadata": {},
   "outputs": [],
   "source": [
    "df=pd.read_csv(\"./data/game_detail_preprocessing.csv\")"
   ]
  },
  {
   "cell_type": "code",
   "execution_count": 3,
   "metadata": {},
   "outputs": [
    {
     "data": {
      "text/html": [
       "<div>\n",
       "<style scoped>\n",
       "    .dataframe tbody tr th:only-of-type {\n",
       "        vertical-align: middle;\n",
       "    }\n",
       "\n",
       "    .dataframe tbody tr th {\n",
       "        vertical-align: top;\n",
       "    }\n",
       "\n",
       "    .dataframe thead th {\n",
       "        text-align: right;\n",
       "    }\n",
       "</style>\n",
       "<table border=\"1\" class=\"dataframe\">\n",
       "  <thead>\n",
       "    <tr style=\"text-align: right;\">\n",
       "      <th></th>\n",
       "      <th>Unnamed: 0</th>\n",
       "      <th>game name</th>\n",
       "      <th>description</th>\n",
       "      <th>price</th>\n",
       "      <th>categories</th>\n",
       "      <th>genres</th>\n",
       "      <th>recommendations</th>\n",
       "    </tr>\n",
       "  </thead>\n",
       "  <tbody>\n",
       "    <tr>\n",
       "      <th>0</th>\n",
       "      <td>0</td>\n",
       "      <td>Counter-Strike</td>\n",
       "      <td>Play the world's number 1 online action game. ...</td>\n",
       "      <td>₩ 10,500</td>\n",
       "      <td>['Multi-player', 'PvP', 'Online PvP', 'Shared/...</td>\n",
       "      <td>Action</td>\n",
       "      <td>98065.0</td>\n",
       "    </tr>\n",
       "    <tr>\n",
       "      <th>1</th>\n",
       "      <td>1</td>\n",
       "      <td>Team Fortress Classic</td>\n",
       "      <td>One of the most popular online action games of...</td>\n",
       "      <td>₩ 5,500</td>\n",
       "      <td>['Multi-player', 'PvP', 'Online PvP', 'Shared/...</td>\n",
       "      <td>Action</td>\n",
       "      <td>3664.0</td>\n",
       "    </tr>\n",
       "    <tr>\n",
       "      <th>2</th>\n",
       "      <td>2</td>\n",
       "      <td>Deathmatch Classic</td>\n",
       "      <td>Enjoy fast-paced multiplayer gaming with Death...</td>\n",
       "      <td>₩ 5,500</td>\n",
       "      <td>['Multi-player', 'PvP', 'Online PvP', 'Shared/...</td>\n",
       "      <td>Action</td>\n",
       "      <td>1250.0</td>\n",
       "    </tr>\n",
       "    <tr>\n",
       "      <th>3</th>\n",
       "      <td>3</td>\n",
       "      <td>Half-Life: Opposing Force</td>\n",
       "      <td>Return to the Black Mesa Research Facility as ...</td>\n",
       "      <td>₩ 5,500</td>\n",
       "      <td>['Single-player', 'Multi-player', 'Valve Anti-...</td>\n",
       "      <td>Action</td>\n",
       "      <td>7834.0</td>\n",
       "    </tr>\n",
       "    <tr>\n",
       "      <th>4</th>\n",
       "      <td>4</td>\n",
       "      <td>Ricochet</td>\n",
       "      <td>A futuristic action game that challenges your ...</td>\n",
       "      <td>₩ 5,500</td>\n",
       "      <td>['Multi-player', 'PvP', 'Online PvP', 'Valve A...</td>\n",
       "      <td>Action</td>\n",
       "      <td>2637.0</td>\n",
       "    </tr>\n",
       "  </tbody>\n",
       "</table>\n",
       "</div>"
      ],
      "text/plain": [
       "   Unnamed: 0                  game name  \\\n",
       "0           0             Counter-Strike   \n",
       "1           1      Team Fortress Classic   \n",
       "2           2         Deathmatch Classic   \n",
       "3           3  Half-Life: Opposing Force   \n",
       "4           4                   Ricochet   \n",
       "\n",
       "                                         description     price  \\\n",
       "0  Play the world's number 1 online action game. ...  ₩ 10,500   \n",
       "1  One of the most popular online action games of...   ₩ 5,500   \n",
       "2  Enjoy fast-paced multiplayer gaming with Death...   ₩ 5,500   \n",
       "3  Return to the Black Mesa Research Facility as ...   ₩ 5,500   \n",
       "4  A futuristic action game that challenges your ...   ₩ 5,500   \n",
       "\n",
       "                                          categories  genres  recommendations  \n",
       "0  ['Multi-player', 'PvP', 'Online PvP', 'Shared/...  Action          98065.0  \n",
       "1  ['Multi-player', 'PvP', 'Online PvP', 'Shared/...  Action           3664.0  \n",
       "2  ['Multi-player', 'PvP', 'Online PvP', 'Shared/...  Action           1250.0  \n",
       "3  ['Single-player', 'Multi-player', 'Valve Anti-...  Action           7834.0  \n",
       "4  ['Multi-player', 'PvP', 'Online PvP', 'Valve A...  Action           2637.0  "
      ]
     },
     "execution_count": 3,
     "metadata": {},
     "output_type": "execute_result"
    }
   ],
   "source": [
    "df.head()"
   ]
  },
  {
   "cell_type": "code",
   "execution_count": 4,
   "metadata": {},
   "outputs": [],
   "source": [
    "df.drop([\"Unnamed: 0\"], axis=1, inplace=True)"
   ]
  },
  {
   "cell_type": "code",
   "execution_count": null,
   "metadata": {},
   "outputs": [],
   "source": [
    "app_name=df[\"game name\"]"
   ]
  },
  {
   "cell_type": "code",
   "execution_count": 7,
   "metadata": {},
   "outputs": [],
   "source": [
    "def content_based_filtering(GameData,Input_game):\n",
    "    \n",
    "    dic_recommend={}\n",
    "    app_name=GameData[\"game name\"]\n",
    "    tfidf_vectorizer = TfidfVectorizer(analyzer=\"word\",strip_accents = 'unicode',stop_words='english')\n",
    "    tfidf = tfidf_vectorizer.fit_transform(list(GameData['description']))\n",
    "    for index in range(GameData['description'].shape[0]):\n",
    "        cosine_similar = linear_kernel(tfidf[index],tfidf).flatten()\n",
    "        related_rating = (-cosine_similar).argsort()[:10]   \n",
    "        dic_recommend.update({app_name[index]:[app_name[i] for i in related_rating]})\n",
    "    content_based_results = pd.DataFrame(dic_recommend)\n",
    "    content_based_results.reset_index(inplace=True)\n",
    "    content_based_results = content_based_results.T\n",
    "    result=content_based_results.drop(0,axis=1)\n",
    "    \n",
    "    return result.loc[Input_game]"
   ]
  },
  {
   "cell_type": "code",
   "execution_count": 8,
   "metadata": {},
   "outputs": [
    {
     "data": {
      "text/plain": [
       "1                         Half-Life: Blue Shift\n",
       "2                        Alien Breed 2: Assault\n",
       "3              Call of Duty®: Modern Warfare® 2\n",
       "4                                   Half-Life 2\n",
       "5                                      DOOM VFR\n",
       "6                  Batman - The Telltale Series\n",
       "7    Duke Nukem 3D: 20th Anniversary World Tour\n",
       "8                           Alien Breed: Impact\n",
       "9                      Thief™ II: The Metal Age\n",
       "Name: Half-Life: Opposing Force, dtype: object"
      ]
     },
     "execution_count": 8,
     "metadata": {},
     "output_type": "execute_result"
    }
   ],
   "source": [
    "content_based_filtering(df,\"Half-Life: Opposing Force\")"
   ]
  }
 ],
 "metadata": {
  "kernelspec": {
   "display_name": "Python 3",
   "language": "python",
   "name": "python3"
  },
  "language_info": {
   "codemirror_mode": {
    "name": "ipython",
    "version": 3
   },
   "file_extension": ".py",
   "mimetype": "text/x-python",
   "name": "python",
   "nbconvert_exporter": "python",
   "pygments_lexer": "ipython3",
   "version": "3.7.6"
  }
 },
 "nbformat": 4,
 "nbformat_minor": 4
}
